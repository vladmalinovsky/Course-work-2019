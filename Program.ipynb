{
 "cells": [
  {
   "cell_type": "code",
   "execution_count": null,
   "metadata": {},
   "outputs": [],
   "source": [
    "import numpy as np\n",
    "from scipy.sparse.linalg import lgmres\n",
    "from numpy import linalg as la\n",
    "from scipy.sparse.linalg import LinearOperator\n",
    "import matplotlib.pyplot as plt"
   ]
  },
  {
   "cell_type": "code",
   "execution_count": null,
   "metadata": {},
   "outputs": [],
   "source": [
    "def Arnoldi(A, v, m):\n",
    "    w=[]\n",
    "    V = []\n",
    "    V.append(np.array(v[:]))\n",
    "    h=np.zeros((m + 1, m))\n",
    "    \n",
    "    for j in range(m):\n",
    "        w.append(A.dot(V[j]))\n",
    "                \n",
    "        for i in range(j+1):\n",
    "            h[i][j]=np.inner(w[j],V[i])\n",
    "            w[j]=w[j]-h[i][j]*V[i]\n",
    "                        \n",
    "        h[j+1][j]=la.norm(w[j])\n",
    "                \n",
    "        if h[j+1][j]==0:\n",
    "            return np.array(V).T, h[0:-1]\n",
    "        \n",
    "        V.append(w[j]/h[j+1][j])\n",
    "                \n",
    "    return np.array(V[0:-1]).T, h[0:-1]"
   ]
  },
  {
   "cell_type": "code",
   "execution_count": null,
   "metadata": {},
   "outputs": [],
   "source": [
    "def Linear_Arnoldi(A, v, m):\n",
    "    w=[]\n",
    "    V = []\n",
    "    V.append(np.array(v[:]))\n",
    "    h=np.zeros((m + 1, m))\n",
    "    \n",
    "    for j in range(m):\n",
    "        w.append(A.dot(V[j]))\n",
    "                \n",
    "        for i in range(j+1):\n",
    "            h[i][j]=np.inner(w[j],V[i])\n",
    "            w[j]=w[j]-h[i][j]*V[i]\n",
    "                        \n",
    "        h[j+1][j]=la.norm(w[j])\n",
    "                \n",
    "        if h[j+1][j]==0:\n",
    "            return np.array(V).T, h[0:-1]\n",
    "        \n",
    "        V.append(w[j]/h[j+1][j])           \n",
    "    return np.array(V[0:-1]).T, h[0:-1]"
   ]
  },
  {
   "cell_type": "code",
   "execution_count": null,
   "metadata": {},
   "outputs": [],
   "source": [
    "def mymatvec(z):\n",
    "    res = np.zeros((z.size, 1))\n",
    "    res[0] = (-2-alpha)*z[0]+z[1]\n",
    "    res[res.size-1] = (-2-alpha)*z[z.size-1]+z[z.size-2]\n",
    "    for i in range(1,z.size-1):\n",
    "        res[i] = (-2-alpha)*z[i]+z[i-1]+z[i+1]\n",
    "    return res"
   ]
  },
  {
   "cell_type": "code",
   "execution_count": null,
   "metadata": {},
   "outputs": [],
   "source": [
    "def accurate_vectors(A,v0,m):\n",
    "    n=np.zeros((m,m))\n",
    "    n[0,:]=v0\n",
    "    for i in range (m-1):\n",
    "        tmp=A.dot(n[i,:])\n",
    "        n[i+1,:]=tmp/la.norm(tmp)\n",
    "    return n"
   ]
  },
  {
   "cell_type": "code",
   "execution_count": null,
   "metadata": {},
   "outputs": [],
   "source": [
    "def accurate_vectors_lgmres(v0,m):\n",
    "    dim = len(v0)\n",
    "    A = LinearOperator((dim, dim), matvec=mymatvec)\n",
    "    Ainv = LinearOperator((dim,dim), lambda v: lgmres(A, v, tol=10**-10, atol=10**-10)[0])\n",
    "    n=np.zeros((m,dim))\n",
    "    n[0,:]=v0\n",
    "    for i in range (m-1):\n",
    "        \n",
    "        tmp=Ainv.dot(n[i,:])\n",
    "        n[i+1,:]=tmp/la.norm(tmp)\n",
    "    return n"
   ]
  },
  {
   "cell_type": "code",
   "execution_count": null,
   "metadata": {},
   "outputs": [],
   "source": [
    "def approximate_vectors(V,H1,v0,m):\n",
    "    dim = len(v0)\n",
    "    n2=np.zeros((m,dim))\n",
    "    n2[0,:]=v0\n",
    "    for i in range(m-1):\n",
    "        tmp=V.dot(H1.dot(V.T.dot(n2[i,:])))\n",
    "        n2[i+1,:]=tmp/la.norm(tmp)\n",
    "    return n2"
   ]
  },
  {
   "cell_type": "code",
   "execution_count": null,
   "metadata": {},
   "outputs": [],
   "source": [
    "def relative_error(V,H1,n,m):\n",
    "    print(\"Без пересчета\")\n",
    "    r=[]\n",
    "    vect = V[:,0]\n",
    "    for i in range(0, m-1):\n",
    "        vect = V.dot(H1.dot(V.T.dot(vect)))\n",
    "        vect = vect/np.linalg.norm(vect)\n",
    "        r.append(np.linalg.norm(n[i+1]-vect)/np.linalg.norm(n[i+1]))\n",
    "    return r"
   ]
  },
  {
   "cell_type": "code",
   "execution_count": null,
   "metadata": {},
   "outputs": [],
   "source": [
    "def relative_error_Arnoldi(V, H1, n,m,j, tmp):\n",
    "    print(\"Пересчет каждый \"+str(j)+\" раз\")\n",
    "    r=[]\n",
    "    for i in range(0, m-1):\n",
    "        if (j-1==0) or i%(j-1)==0:\n",
    "            V,H=Linear_Arnoldi(A, tmp, m)\n",
    "            H1=la.inv(H)\n",
    "        vect = V.dot(H1.dot(V.T.dot(tmp)))\n",
    "        vect2= lgmres(A,tmp)[0]\n",
    "        vect = vect/np.linalg.norm(vect)\n",
    "        tmp = vect\n",
    "        r.append(np.linalg.norm(n[i+1]-vect)/np.linalg.norm(n[i+1]))\n",
    "    return r"
   ]
  },
  {
   "cell_type": "code",
   "execution_count": null,
   "metadata": {},
   "outputs": [],
   "source": [
    "alpha=1\n",
    "m=60\n",
    "vect_cnt = 30\n",
    "tmp = np.ones(m)\n",
    "tmp = tmp/np.linalg.norm(tmp)"
   ]
  },
  {
   "cell_type": "code",
   "execution_count": null,
   "metadata": {},
   "outputs": [],
   "source": [
    "\n",
    "A = LinearOperator((m, m), matvec=mymatvec)\n",
    "v0=tmp\n",
    "V,H=Linear_Arnoldi(A,v0,vect_cnt)\n",
    "H1=la.inv(H)\n",
    "v=accurate_vectors_lgmres(V[:,0],vect_cnt)\n",
    "v2=approximate_vectors(V,H1,V[:,0],vect_cnt)\n",
    "print(v)\n",
    "print(v2)\n",
    "r0=relative_error(V,H1,v,vect_cnt)\n",
    "print(r0)\n",
    "r1=relative_error_Arnoldi(V, H1, v,vect_cnt,1,tmp)\n",
    "print(r1)\n",
    "r2=relative_error_Arnoldi(V,H1,v,vect_cnt,3,tmp)\n",
    "print(r2)\n",
    "r3=relative_error_Arnoldi(V,H1,v,vect_cnt,5,tmp)\n",
    "print(r3)\n",
    "r4=relative_error_Arnoldi(V,H1,v,vect_cnt,10,tmp)\n",
    "print(r4)"
   ]
  },
  {
   "cell_type": "code",
   "execution_count": null,
   "metadata": {},
   "outputs": [],
   "source": [
    "dots_x=range(1,30)\n",
    "plt.plot(dots_x, r0)\n",
    "plt.plot(dots_x, r1)\n",
    "plt.plot(dots_x, r2)\n",
    "plt.plot(dots_x, r3)\n",
    "plt.plot(dots_x, r4)\n",
    "plt.show()"
   ]
  }
 ],
 "metadata": {
  "kernelspec": {
   "display_name": "Python 3",
   "language": "python",
   "name": "python3"
  },
  "language_info": {
   "codemirror_mode": {
    "name": "ipython",
    "version": 3
   },
   "file_extension": ".py",
   "mimetype": "text/x-python",
   "name": "python",
   "nbconvert_exporter": "python",
   "pygments_lexer": "ipython3",
   "version": "3.7.1"
  }
 },
 "nbformat": 4,
 "nbformat_minor": 2
}
