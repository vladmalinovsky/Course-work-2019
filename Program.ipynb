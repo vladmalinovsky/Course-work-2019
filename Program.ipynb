{
 "cells": [
  {
   "cell_type": "code",
   "execution_count": 17,
   "metadata": {},
   "outputs": [],
   "source": [
    "import numpy as np\n",
    "from scipy.sparse.linalg import lgmres\n",
    "from numpy import linalg as la\n",
    "from scipy.sparse.linalg import LinearOperator\n",
    "import matplotlib.pyplot as plt"
   ]
  },
  {
   "cell_type": "code",
   "execution_count": 18,
   "metadata": {},
   "outputs": [],
   "source": [
    "def Arnoldi(A, v, m):\n",
    "    w=[]\n",
    "    V = []\n",
    "    V.append(np.array(v[:]))\n",
    "    h=np.zeros((m + 1, m))\n",
    "    \n",
    "    for j in range(m):\n",
    "        w.append(A.dot(V[j]))\n",
    "                \n",
    "        for i in range(j+1):\n",
    "            h[i][j]=np.inner(w[j],V[i])\n",
    "            w[j]=w[j]-h[i][j]*V[i]\n",
    "                        \n",
    "        h[j+1][j]=la.norm(w[j])\n",
    "                \n",
    "        if h[j+1][j]==0:\n",
    "            return np.array(V).T, h[0:-1]\n",
    "        \n",
    "        V.append(w[j]/h[j+1][j])\n",
    "                \n",
    "    return np.array(V[0:-1]).T, h[0:-1]"
   ]
  },
  {
   "cell_type": "code",
   "execution_count": 117,
   "metadata": {},
   "outputs": [],
   "source": [
    "def Linear_Arnoldi(A, v, m):\n",
    "    #A = LinearOperator((m, m), matvec=mymatvec)\n",
    "    w=[]\n",
    "    V = []\n",
    "    V.append(np.array(v[:]))\n",
    "    h=np.zeros((m + 1, m))\n",
    "    \n",
    "    for j in range(m):\n",
    "        w.append(A.dot(V[j]))\n",
    "                \n",
    "        for i in range(j+1):\n",
    "            h[i][j]=np.inner(w[j],V[i])\n",
    "            w[j]=w[j]-h[i][j]*V[i]\n",
    "                        \n",
    "        h[j+1][j]=la.norm(w[j])\n",
    "                \n",
    "        if h[j+1][j]==0:\n",
    "            return np.array(V).T, h[0:-1]\n",
    "        \n",
    "        V.append(w[j]/h[j+1][j])\n",
    "    #print('!!!!!!!!!', h[-1][-1])            \n",
    "    return np.array(V[0:-1]).T, h[0:-1]"
   ]
  },
  {
   "cell_type": "code",
   "execution_count": 118,
   "metadata": {},
   "outputs": [],
   "source": [
    "def mymatvec(z):\n",
    "    res = np.zeros((z.size, 1))\n",
    "    res[0] = (-2-alpha)*z[0]+z[1]\n",
    "    res[res.size-1] = (-2-alpha)*z[z.size-1]+z[z.size-2]\n",
    "    for i in range(1,z.size-1):\n",
    "        res[i] = (-2-alpha)*z[i]+z[i-1]+z[i+1]\n",
    "    return res"
   ]
  },
  {
   "cell_type": "code",
   "execution_count": 119,
   "metadata": {},
   "outputs": [],
   "source": [
    "def accurate_vectors(A,v0,m):\n",
    "    n=np.zeros((m,m))\n",
    "    n[0,:]=v0\n",
    "    for i in range (m-1):\n",
    "        tmp=A.dot(n[i,:])\n",
    "        n[i+1,:]=tmp/la.norm(tmp)\n",
    "    return n"
   ]
  },
  {
   "cell_type": "code",
   "execution_count": 120,
   "metadata": {},
   "outputs": [],
   "source": [
    "def accurate_vectors_lgmres(v0,m):\n",
    "    dim = len(v0)\n",
    "    A = LinearOperator((dim, dim), matvec=mymatvec)\n",
    "    Ainv = LinearOperator((dim,dim), lambda v: lgmres(A, v, tol=10**-10, atol=10**-10)[0])\n",
    "    n=np.zeros((m,dim))\n",
    "    n[0,:]=v0\n",
    "    for i in range (m-1):\n",
    "        \n",
    "        tmp=Ainv.dot(n[i,:])\n",
    "        n[i+1,:]=tmp/la.norm(tmp)\n",
    "    return n"
   ]
  },
  {
   "cell_type": "code",
   "execution_count": 121,
   "metadata": {},
   "outputs": [],
   "source": [
    "def approximate_vectors(V,H1,v0,m):\n",
    "    dim = len(v0)\n",
    "    n2=np.zeros((m,dim))\n",
    "    n2[0,:]=v0\n",
    "    for i in range(m-1):\n",
    "        tmp=V.dot(H1.dot(V.T.dot(n2[i,:])))\n",
    "        n2[i+1,:]=tmp/la.norm(tmp)\n",
    "    return n2"
   ]
  },
  {
   "cell_type": "code",
   "execution_count": 122,
   "metadata": {},
   "outputs": [],
   "source": [
    "def relative_error(V,H1,n,m):\n",
    "    print(\"Без пересчета\")\n",
    "    r=[]\n",
    "    vect = V[:,0]\n",
    "    for i in range(0, m-1):\n",
    "        vect = V.dot(H1.dot(V.T.dot(vect)))\n",
    "        vect = vect/np.linalg.norm(vect)\n",
    "        r.append(np.linalg.norm(n[i+1]-vect)/np.linalg.norm(n[i+1]))\n",
    "    return r"
   ]
  },
  {
   "cell_type": "code",
   "execution_count": 126,
   "metadata": {},
   "outputs": [],
   "source": [
    "def relative_error_Arnoldi(V, H1, n,m,j, tmp):\n",
    "    print(\"Пересчет каждый \"+str(j)+\" раз\")\n",
    "    r=[]\n",
    "    #tmp=np.zeros(A.shape[0])\n",
    "    #tmp[0]=1.\n",
    "    for i in range(0, m-1):\n",
    "        if (j-1==0) or i%(j-1)==0:\n",
    "            V,H=Linear_Arnoldi(A, tmp,m)\n",
    "            #print(H)\n",
    "            #print(V.dot(H.dot(V.T)))\n",
    "            H1=la.inv(H)\n",
    "        vect = V.dot(H1.dot(V.T.dot(tmp)))#n[i,:])))\n",
    "        vect2= lgmres(A,tmp)[0]\n",
    "        #print('%%%%%%%',vect-vect2)\n",
    "        vect = vect/np.linalg.norm(vect)\n",
    "        tmp = vect\n",
    "        #print(np.linalg.norm(n[i+1]))\n",
    "        r.append(np.linalg.norm(n[i+1]-vect)/np.linalg.norm(n[i+1]))\n",
    "    return r"
   ]
  },
  {
   "cell_type": "code",
   "execution_count": 127,
   "metadata": {},
   "outputs": [],
   "source": [
    "alpha=1\n",
    "m=60\n",
    "vect_cnt = 30\n",
    "tmp = np.ones(m)\n",
    "tmp = tmp/np.linalg.norm(tmp)"
   ]
  },
  {
   "cell_type": "code",
   "execution_count": 128,
   "metadata": {},
   "outputs": [
    {
     "name": "stdout",
     "output_type": "stream",
     "text": [
      "@@@@@@@@@@@@@\n",
      "[[ 0.12909944  0.12909944  0.12909944 ...  0.12909944  0.12909944\n",
      "   0.12909944]\n",
      " [-0.08124329 -0.11227546 -0.12412869 ... -0.12412869 -0.11227546\n",
      "  -0.08124329]\n",
      " [ 0.05947234  0.09622826  0.11563039 ...  0.11563039  0.09622826\n",
      "   0.05947234]\n",
      " ...\n",
      " [-0.01647846 -0.03263552 -0.04816932 ... -0.04816932 -0.03263552\n",
      "  -0.01647846]\n",
      " [ 0.01623055  0.03215641  0.04749071 ...  0.04749071  0.03215641\n",
      "   0.01623055]\n",
      " [-0.01599643 -0.03170342 -0.04684785 ... -0.04684785 -0.03170342\n",
      "  -0.01599643]]\n",
      "[[ 0.12909944  0.12909944  0.12909944 ...  0.12909944  0.12909944\n",
      "   0.12909944]\n",
      " [-0.08124301 -0.11227507 -0.12412827 ... -0.12412827 -0.11227507\n",
      "  -0.08124301]\n",
      " [ 0.05947188  0.09622752  0.1156295  ...  0.1156295   0.09622752\n",
      "   0.05947188]\n",
      " ...\n",
      " [-0.01647894 -0.03263656 -0.04817111 ... -0.04817111 -0.03263656\n",
      "  -0.01647894]\n",
      " [ 0.01623119  0.03215779  0.04749303 ...  0.04749303  0.03215779\n",
      "   0.01623119]\n",
      " [-0.01599725 -0.03170516 -0.04685074 ... -0.04685074 -0.03170516\n",
      "  -0.01599725]]\n",
      "Без пересчета\n",
      "[0.0026193005729849904, 0.003937310963901721, 0.004714955668169201, 0.005228949138878526, 0.00559624816367769, 0.00587344640955865, 0.0060910825471297576, 0.006267102365948218, 0.006412777499763334, 0.006535569596335592, 0.006640630857891852, 0.006731643466802735, 0.006811315257080291, 0.006881686133216663, 0.00694432477265743, 0.007000459042642252, 0.007051065111764256, 0.007096929629310725, 0.007138694272424253, 0.007176888066574049, 0.007211951446771731, 0.007244254252070641, 0.007274109505474733, 0.007301784078962835, 0.007327506921660571, 0.0073514756778704626, 0.007373861879658643, 0.007394815193535994, 0.007414466775398338]\n",
      "Пересчет каждый 1 раз\n"
     ]
    },
    {
     "name": "stderr",
     "output_type": "stream",
     "text": [
      "C:\\Users\\Vlad\\Anaconda3\\lib\\site-packages\\ipykernel_launcher.py:13: DeprecationWarning: scipy.sparse.linalg.lgmres called without specifying `atol`. The default value will change in the future. To preserve current behavior, set ``atol=tol``.\n",
      "  del sys.path[0]\n"
     ]
    },
    {
     "name": "stdout",
     "output_type": "stream",
     "text": [
      "[0.0026193005729849904, 0.0021112668156212586, 0.005010736619543789, 0.009075635987787633, 0.01685732548760979, 0.18683132013438863, 0.07177000553180206, 0.199665677996692, 0.11739551303053768, 0.07013704095358692, 0.04860873438164496, 0.03177188268728181, 0.020863949704566804, 0.02566706118826673, 0.013138183138869492, 0.00874958963872863, 0.07675064645886379, 0.044009067342062294, 0.03160861935675069, 0.028904359906779534, 0.019244946329391794, 0.030439753715512646, 0.022141535975179736, 0.019815240128236104, 0.015240054904993137, 0.02188209199059017, 0.015631783442291956, 0.018167757932707373, 0.017776317541898654]\n",
      "Пересчет каждый 3 раз\n",
      "[0.0026193005729849904, 0.003937310963901721, 0.002265742430713355, 0.0015295193361789484, 1.1156406003988615, 1.1649226428847388, 0.553903119648333, 0.19175830862972296, 0.0913517756169216, 0.0530351735491617, 0.03254234488904385, 0.020990549894284286, 0.013936651885313492, 0.010266057923306133, 0.0077753996879041335, 0.0075384270025854435, 0.09831931289365178, 0.12329245686091034, 0.03858282971909262, 0.022517652243264196, 0.016000205369524685, 0.015089711384114187, 0.01025456614943088, 0.007800934349160759, 0.05241601870847238, 0.06900533235585601, 0.0256432800288114, 0.014186592222511835, 0.009790446628146262]\n",
      "Пересчет каждый 5 раз\n",
      "[0.0026193005729849904, 0.003937310963901721, 0.004714955668169201, 0.005228949138878526, 0.009776944873508955, 0.013007001807156766, 0.01440365855472425, 0.014991436632199026, 0.023354689850897854, 0.03469175253819783, 0.041250427117437406, 0.04496670567109444, 0.11274071715201706, 0.18997892066306712, 0.24853095063960715, 0.2921644175947347, 0.2272436195293706, 0.17789874139866316, 0.141630665755472, 0.11620588452456838, 0.09011003287387692, 0.07033216407479971, 0.05518269796766113, 0.043549842905425504, 0.04265085697525462, 0.04815478091732793, 0.05311524198533552, 0.056873384893672406, 0.036380298513547675]\n",
      "Пересчет каждый 10 раз\n",
      "[0.0026193005729849904, 0.003937310963901721, 0.004714955668169201, 0.005228949138878526, 0.00559624816367769, 0.00587344640955865, 0.0060910825471297576, 0.006267102365948218, 0.006412777499763334, 0.03468341382426928, 0.055343019026240385, 0.06865824303215788, 0.07758091275746798, 0.08366738063630853, 0.08785308038147921, 0.09074137563313683, 0.092735461829299, 0.09410976996792725, 0.06260598314041997, 0.044577338215952625, 0.03445053288805967, 0.029592182390460707, 0.027983130339827064, 0.02803932738281371, 0.02877880118192447, 0.02971192651427963, 0.030629152290826692, 0.0246638368893494, 0.020493247295477784]\n"
     ]
    }
   ],
   "source": [
    "\n",
    "A = LinearOperator((m, m), matvec=mymatvec)\n",
    "v0=tmp\n",
    "print('@@@@@@@@@@@@@')\n",
    "V,H=Linear_Arnoldi(A,v0,vect_cnt)\n",
    "H1=la.inv(H)\n",
    "v=accurate_vectors_lgmres(V[:,0],vect_cnt)\n",
    "v2=approximate_vectors(V,H1,V[:,0],vect_cnt)\n",
    "print(v)\n",
    "print(v2)\n",
    "r0=relative_error(V,H1,v,vect_cnt)\n",
    "print(r0)\n",
    "r1=relative_error_Arnoldi(V, H1, v,vect_cnt,1,tmp)\n",
    "print(r1)\n",
    "r2=relative_error_Arnoldi(V,H1,v,vect_cnt,3,tmp)\n",
    "print(r2)\n",
    "r3=relative_error_Arnoldi(V,H1,v,vect_cnt,5,tmp)\n",
    "print(r3)\n",
    "r4=relative_error_Arnoldi(V,H1,v,vect_cnt,10,tmp)\n",
    "print(r4)"
   ]
  },
  {
   "cell_type": "code",
   "execution_count": null,
   "metadata": {},
   "outputs": [],
   "source": [
    "dots_x=range(1,40)\n",
    "plt.plot(dots_x, r0)\n",
    "plt.plot(dots_x, r1)\n",
    "plt.plot(dots_x, r2)\n",
    "plt.plot(dots_x, r3)\n",
    "plt.plot(dots_x, r4)\n",
    "plt.show()"
   ]
  }
 ],
 "metadata": {
  "kernelspec": {
   "display_name": "Python 3",
   "language": "python",
   "name": "python3"
  },
  "language_info": {
   "codemirror_mode": {
    "name": "ipython",
    "version": 3
   },
   "file_extension": ".py",
   "mimetype": "text/x-python",
   "name": "python",
   "nbconvert_exporter": "python",
   "pygments_lexer": "ipython3",
   "version": "3.7.1"
  }
 },
 "nbformat": 4,
 "nbformat_minor": 2
}
